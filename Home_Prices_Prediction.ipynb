{
 "cells": [
  {
   "cell_type": "markdown",
   "metadata": {},
   "source": [
    "### Import  Packages"
   ]
  },
  {
   "cell_type": "code",
   "execution_count": 438,
   "metadata": {
    "collapsed": true,
    "scrolled": true
   },
   "outputs": [],
   "source": [
    "import pandas as pd\n",
    "import matplotlib.pyplot as plt\n",
    "import numpy as np\n",
    "import seaborn as sns\n",
    "from sklearn import preprocessing\n",
    "from sklearn.pipeline import Pipeline"
   ]
  },
  {
   "cell_type": "markdown",
   "metadata": {},
   "source": [
    "### Read in data"
   ]
  },
  {
   "cell_type": "code",
   "execution_count": 391,
   "metadata": {
    "collapsed": true,
    "scrolled": true
   },
   "outputs": [],
   "source": [
    "train_df = pd.read_csv('data/train.csv')"
   ]
  },
  {
   "cell_type": "code",
   "execution_count": 392,
   "metadata": {
    "collapsed": true,
    "scrolled": true
   },
   "outputs": [],
   "source": [
    "#train_df.shape"
   ]
  },
  {
   "cell_type": "code",
   "execution_count": 393,
   "metadata": {
    "collapsed": true,
    "scrolled": true
   },
   "outputs": [],
   "source": [
    "#train_df.columns"
   ]
  },
  {
   "cell_type": "code",
   "execution_count": 394,
   "metadata": {
    "collapsed": true,
    "scrolled": false
   },
   "outputs": [],
   "source": [
    "#train_df"
   ]
  },
  {
   "cell_type": "markdown",
   "metadata": {},
   "source": [
    "### Think about nulls"
   ]
  },
  {
   "cell_type": "code",
   "execution_count": 395,
   "metadata": {
    "scrolled": true
   },
   "outputs": [
    {
     "data": {
      "text/plain": [
       "Id                 0\n",
       "MSSubClass         0\n",
       "MSZoning           0\n",
       "LotFrontage      259\n",
       "LotArea            0\n",
       "Street             0\n",
       "Alley           1369\n",
       "LotShape           0\n",
       "LandContour        0\n",
       "Utilities          0\n",
       "LotConfig          0\n",
       "LandSlope          0\n",
       "Neighborhood       0\n",
       "Condition1         0\n",
       "Condition2         0\n",
       "BldgType           0\n",
       "HouseStyle         0\n",
       "OverallQual        0\n",
       "OverallCond        0\n",
       "YearBuilt          0\n",
       "YearRemodAdd       0\n",
       "RoofStyle          0\n",
       "RoofMatl           0\n",
       "Exterior1st        0\n",
       "Exterior2nd        0\n",
       "MasVnrType         8\n",
       "MasVnrArea         8\n",
       "ExterQual          0\n",
       "ExterCond          0\n",
       "Foundation         0\n",
       "BsmtQual          37\n",
       "BsmtCond          37\n",
       "BsmtExposure      38\n",
       "BsmtFinType1      37\n",
       "BsmtFinSF1         0\n",
       "BsmtFinType2      38\n",
       "BsmtFinSF2         0\n",
       "BsmtUnfSF          0\n",
       "TotalBsmtSF        0\n",
       "Heating            0\n",
       "HeatingQC          0\n",
       "CentralAir         0\n",
       "Electrical         1\n",
       "1stFlrSF           0\n",
       "2ndFlrSF           0\n",
       "LowQualFinSF       0\n",
       "GrLivArea          0\n",
       "BsmtFullBath       0\n",
       "BsmtHalfBath       0\n",
       "FullBath           0\n",
       "HalfBath           0\n",
       "BedroomAbvGr       0\n",
       "KitchenAbvGr       0\n",
       "KitchenQual        0\n",
       "TotRmsAbvGrd       0\n",
       "Functional         0\n",
       "Fireplaces         0\n",
       "FireplaceQu      690\n",
       "GarageType        81\n",
       "GarageYrBlt       81\n",
       "dtype: int64"
      ]
     },
     "execution_count": 395,
     "metadata": {},
     "output_type": "execute_result"
    }
   ],
   "source": [
    "train_df.iloc[:,:60].isnull().sum()"
   ]
  },
  {
   "cell_type": "code",
   "execution_count": 396,
   "metadata": {
    "scrolled": true
   },
   "outputs": [
    {
     "data": {
      "text/plain": [
       "GarageFinish       81\n",
       "GarageCars          0\n",
       "GarageArea          0\n",
       "GarageQual         81\n",
       "GarageCond         81\n",
       "PavedDrive          0\n",
       "WoodDeckSF          0\n",
       "OpenPorchSF         0\n",
       "EnclosedPorch       0\n",
       "3SsnPorch           0\n",
       "ScreenPorch         0\n",
       "PoolArea            0\n",
       "PoolQC           1453\n",
       "Fence            1179\n",
       "MiscFeature      1406\n",
       "MiscVal             0\n",
       "MoSold              0\n",
       "YrSold              0\n",
       "SaleType            0\n",
       "SaleCondition       0\n",
       "SalePrice           0\n",
       "dtype: int64"
      ]
     },
     "execution_count": 396,
     "metadata": {},
     "output_type": "execute_result"
    }
   ],
   "source": [
    "train_df.iloc[:,60:].isnull().sum()"
   ]
  },
  {
   "cell_type": "markdown",
   "metadata": {},
   "source": [
    "### Looks like I need to impute some values...\n",
    "Here is my strategy for imputing values:\n",
    "* LotFrontage: median? or does a lack of value mean the lot frontage is 0?\n",
    "* Alley: should be 'NA'\n",
    "* MasVnrType: should be 'None'\n",
    "* MasVnrArea: should be 0\n",
    "* BsmtQual: 'NA'\n",
    "* BsmtCond: 'NA'\n",
    "* BsmtExposure: 'NA', except **there's an extra one??????**\n",
    "* \n",
    "* BsmtFinType1: 'NA'\n",
    "* BsmtFinType2: 'NA'\n",
    "* Electrical: just one missing... mode? Or should I look at the other features of that house and compare to other houses to see if I can determine what value should go there?\n",
    "* FireplaceQu: should be 'NA'?\n",
    "* Garage*: 'NA'\n",
    "* PoolQC: should be 'NA'?\n",
    "* Fence: should be 'NA'?\n",
    "* MiscFeature: should be 'NA'?"
   ]
  },
  {
   "cell_type": "code",
   "execution_count": 397,
   "metadata": {
    "collapsed": true,
    "scrolled": false
   },
   "outputs": [],
   "source": [
    "train_df['Alley'] = train_df['Alley'].fillna('NA')\n",
    "train_df['MasVnrType'] = train_df['MasVnrType'].fillna('None')\n",
    "train_df['MasVnrArea'] = train_df['MasVnrArea'].fillna(0)\n",
    "train_df['BsmtQual'] = train_df['BsmtQual'].fillna('NA')\n",
    "train_df['BsmtCond'] = train_df['BsmtCond'].fillna('NA')\n",
    "train_df['BsmtExposure'] = train_df['BsmtExposure'].fillna('NA')\n",
    "\n",
    "train_df['BsmtFinType1'] = train_df['BsmtFinType1'].fillna('NA')\n",
    "train_df['BsmtFinType2'] = train_df['BsmtFinType2'].fillna('NA')\n",
    "train_df['FireplaceQu'] = train_df['FireplaceQu'].fillna('NA')\n",
    "train_df['PoolQC'] = train_df['PoolQC'].fillna('NA')\n",
    "train_df['Fence'] = train_df['Fence'].fillna('NA')\n",
    "train_df['MiscFeature'] = train_df['MiscFeature'].fillna('NA')\n",
    "train_df['GarageType'] = train_df['GarageType'].fillna('NA')\n",
    "train_df['GarageFinish'] = train_df['GarageFinish'].fillna('NA')\n",
    "train_df['GarageQual'] = train_df['GarageQual'].fillna('NA')\n",
    "train_df['GarageCond'] = train_df['GarageCond'].fillna('NA')\n"
   ]
  },
  {
   "cell_type": "markdown",
   "metadata": {},
   "source": [
    "## Start converting codes to numbers"
   ]
  },
  {
   "cell_type": "markdown",
   "metadata": {},
   "source": [
    "### Coding Ranked Data"
   ]
  },
  {
   "cell_type": "markdown",
   "metadata": {},
   "source": [
    "#### BsmtFinType1 and 2"
   ]
  },
  {
   "cell_type": "code",
   "execution_count": 398,
   "metadata": {
    "collapsed": true,
    "scrolled": true
   },
   "outputs": [],
   "source": [
    "# get the order for BsmtFinType\n",
    "ordered_BsmtFinType = ['GLQ', 'ALQ', 'BLQ', 'Rec', 'LwQ', 'Unf', 'NA']\n",
    "ordered_BsmtFinType.reverse()\n",
    "#ordered_BsmtFinType"
   ]
  },
  {
   "cell_type": "code",
   "execution_count": 399,
   "metadata": {
    "collapsed": true,
    "scrolled": true
   },
   "outputs": [],
   "source": [
    "# make the column BsmtFinType1 categorical data and order by code\n",
    "train_df.BsmtFinType1 = train_df.BsmtFinType1.astype(\"category\",\n",
    "  ordered=True,\n",
    "  categories=ordered_BsmtFinType\n",
    ").cat.codes\n",
    "#train_df.BsmtFinType1"
   ]
  },
  {
   "cell_type": "code",
   "execution_count": 400,
   "metadata": {
    "collapsed": true,
    "scrolled": false
   },
   "outputs": [],
   "source": [
    "# make the column BsmtFinType2 categorical data and order by code\n",
    "train_df.BsmtFinType2 = train_df.BsmtFinType2.astype(\"category\",\n",
    "  ordered=True,\n",
    "  categories=ordered_BsmtFinType\n",
    ").cat.codes\n",
    "#train_df.BsmtFinType2"
   ]
  },
  {
   "cell_type": "markdown",
   "metadata": {},
   "source": [
    "#### BsmtExposure"
   ]
  },
  {
   "cell_type": "code",
   "execution_count": 401,
   "metadata": {
    "collapsed": true,
    "scrolled": true
   },
   "outputs": [],
   "source": [
    "# get the order for BsmtExposure\n",
    "ordered_BsmtExposure = ['Gd', 'Av', 'Mn', 'No', 'NA']\n",
    "ordered_BsmtExposure.reverse()\n",
    "#ordered_BsmtExposure"
   ]
  },
  {
   "cell_type": "code",
   "execution_count": 402,
   "metadata": {
    "collapsed": true
   },
   "outputs": [],
   "source": [
    "# make the column BsmtExposure categorical data and order by code\n",
    "train_df.BsmtExposure = train_df.BsmtExposure.astype(\"category\",\n",
    "  ordered=True,\n",
    "  categories=ordered_BsmtExposure\n",
    ").cat.codes\n",
    "#train_df.BsmtExposure"
   ]
  },
  {
   "cell_type": "markdown",
   "metadata": {},
   "source": [
    "#### BsmtQual"
   ]
  },
  {
   "cell_type": "code",
   "execution_count": 403,
   "metadata": {
    "collapsed": true
   },
   "outputs": [],
   "source": [
    "# get the order for BsmtQual\n",
    "ordered_BsmtQual = ['Ex', 'Gd', 'TA', 'Fa', 'Po', 'NA']\n",
    "ordered_BsmtQual.reverse()\n",
    "#ordered_BsmtQual"
   ]
  },
  {
   "cell_type": "code",
   "execution_count": 404,
   "metadata": {
    "collapsed": true
   },
   "outputs": [],
   "source": [
    "# make the column BsmtQual categorical data and order by code\n",
    "train_df.BsmtQual = train_df.BsmtQual.astype(\"category\",\n",
    "  ordered=True,\n",
    "  categories=ordered_BsmtQual\n",
    ").cat.codes\n",
    "#train_df.BsmtQual"
   ]
  },
  {
   "cell_type": "markdown",
   "metadata": {},
   "source": [
    "#### BsmtCond"
   ]
  },
  {
   "cell_type": "code",
   "execution_count": 405,
   "metadata": {
    "collapsed": true
   },
   "outputs": [],
   "source": [
    "# get the order for BsmtCond\n",
    "ordered_BsmtCond = ['Ex', 'Gd', 'TA', 'Fa', 'Po', 'NA']\n",
    "ordered_BsmtCond.reverse()\n",
    "#ordered_BsmtCond"
   ]
  },
  {
   "cell_type": "code",
   "execution_count": 406,
   "metadata": {
    "collapsed": true
   },
   "outputs": [],
   "source": [
    "# make the column BsmtQual categorical data and order by code\n",
    "train_df.BsmtCond = train_df.BsmtCond.astype(\"category\",\n",
    "  ordered=True,\n",
    "  categories=ordered_BsmtCond\n",
    ").cat.codes\n",
    "#train_df.BsmtCond"
   ]
  },
  {
   "cell_type": "markdown",
   "metadata": {},
   "source": [
    "#### ExterQual"
   ]
  },
  {
   "cell_type": "code",
   "execution_count": 407,
   "metadata": {
    "collapsed": true,
    "scrolled": true
   },
   "outputs": [],
   "source": [
    "# get the order for ExterQual\n",
    "ordered_ExterScore = ['Ex', 'Gd', 'TA', 'Fa', 'Po']\n",
    "ordered_ExterScore.reverse()\n",
    "#ordered_ExterScore"
   ]
  },
  {
   "cell_type": "code",
   "execution_count": 408,
   "metadata": {
    "collapsed": true,
    "scrolled": true
   },
   "outputs": [],
   "source": [
    "# make the column ExterQual categorical data and order by code\n",
    "train_df.ExterQual = train_df.ExterQual.astype(\"category\",\n",
    "  ordered=True,\n",
    "  categories=ordered_ExterQual\n",
    ").cat.codes\n",
    "#train_df.ExterQual"
   ]
  },
  {
   "cell_type": "markdown",
   "metadata": {},
   "source": [
    "#### ExterCond"
   ]
  },
  {
   "cell_type": "code",
   "execution_count": 409,
   "metadata": {
    "collapsed": true,
    "scrolled": true
   },
   "outputs": [],
   "source": [
    "# make the column ExterQual categorical data and order by code\n",
    "train_df.ExterCond = train_df.ExterCond.astype(\"category\",\n",
    "  ordered=True,\n",
    "  categories=ordered_ExterScore\n",
    ").cat.codes\n",
    "#train_df.ExterCond"
   ]
  },
  {
   "cell_type": "markdown",
   "metadata": {},
   "source": [
    "#### HeatingQC"
   ]
  },
  {
   "cell_type": "code",
   "execution_count": 410,
   "metadata": {
    "collapsed": true
   },
   "outputs": [],
   "source": [
    "# get the order for HeatingQC\n",
    "ordered_HeatingQC = ['Ex', 'Gd', 'TA', 'Fa', 'Po']\n",
    "ordered_HeatingQC.reverse()\n",
    "#ordered_HeatingQC"
   ]
  },
  {
   "cell_type": "code",
   "execution_count": 411,
   "metadata": {
    "collapsed": true
   },
   "outputs": [],
   "source": [
    "# make the column HeatingQC categorical data and order by code\n",
    "train_df.HeatingQC = train_df.HeatingQC.astype(\"category\",\n",
    "  ordered=True,\n",
    "  categories=ordered_HeatingQC\n",
    ").cat.codes\n",
    "#train_df.HeatingQC"
   ]
  },
  {
   "cell_type": "markdown",
   "metadata": {},
   "source": [
    "#### KitchenQual"
   ]
  },
  {
   "cell_type": "code",
   "execution_count": 412,
   "metadata": {
    "collapsed": true
   },
   "outputs": [],
   "source": [
    "# get the order for KitchenQual\n",
    "ordered_KitchenQual = ['Ex', 'Gd', 'TA', 'Fa', 'Po']\n",
    "ordered_KitchenQual.reverse()\n",
    "#ordered_KitchenQual"
   ]
  },
  {
   "cell_type": "code",
   "execution_count": 413,
   "metadata": {
    "collapsed": true
   },
   "outputs": [],
   "source": [
    "# make the column KitchenQual categorical data and order by code\n",
    "train_df.KitchenQual = train_df.KitchenQual.astype(\"category\",\n",
    "  ordered=True,\n",
    "  categories=ordered_KitchenQual\n",
    ").cat.codes\n",
    "#train_df.KitchenQual"
   ]
  },
  {
   "cell_type": "markdown",
   "metadata": {},
   "source": [
    "#### Functional"
   ]
  },
  {
   "cell_type": "code",
   "execution_count": 414,
   "metadata": {
    "collapsed": true
   },
   "outputs": [],
   "source": [
    "# get the order for Functional\n",
    "ordered_Functional = ['Typ', 'Min1', 'Min2', 'Mod', 'Maj1', 'Maj2', 'Sev', 'Sal']\n",
    "ordered_Functional.reverse()\n",
    "#ordered_Functional"
   ]
  },
  {
   "cell_type": "code",
   "execution_count": 415,
   "metadata": {
    "collapsed": true
   },
   "outputs": [],
   "source": [
    "# make the column Functional categorical data and order by code\n",
    "train_df.Functional = train_df.Functional.astype(\"category\",\n",
    "  ordered=True,\n",
    "  categories=ordered_Functional\n",
    ").cat.codes\n",
    "#train_df.Functional"
   ]
  },
  {
   "cell_type": "markdown",
   "metadata": {},
   "source": [
    "#### FireplaceQu"
   ]
  },
  {
   "cell_type": "code",
   "execution_count": 416,
   "metadata": {
    "collapsed": true
   },
   "outputs": [],
   "source": [
    "# get the order for FireplaceQu\n",
    "ordered_FireplaceQu = ['Ex', 'Gd', 'TA', 'Fa', 'Po', 'NA']\n",
    "ordered_FireplaceQu.reverse()\n",
    "#ordered_FireplaceQu"
   ]
  },
  {
   "cell_type": "code",
   "execution_count": 417,
   "metadata": {
    "collapsed": true
   },
   "outputs": [],
   "source": [
    "# make the column FireplaceQu categorical data and order by code\n",
    "train_df.FireplaceQu = train_df.FireplaceQu.astype(\"category\",\n",
    "  ordered=True,\n",
    "  categories=ordered_FireplaceQu\n",
    ").cat.codes\n",
    "#train_df.FireplaceQu"
   ]
  },
  {
   "cell_type": "markdown",
   "metadata": {},
   "source": [
    "#### GarageFinish"
   ]
  },
  {
   "cell_type": "code",
   "execution_count": 418,
   "metadata": {
    "collapsed": true
   },
   "outputs": [],
   "source": [
    "# get the order for GarageFinish\n",
    "ordered_GarageFinish = ['Fin', 'RFn', 'Unf', 'NA']\n",
    "ordered_GarageFinish.reverse()\n",
    "#ordered_GarageFinish"
   ]
  },
  {
   "cell_type": "code",
   "execution_count": 419,
   "metadata": {
    "collapsed": true
   },
   "outputs": [],
   "source": [
    "# make the column GarageFinish categorical data and order by code\n",
    "train_df.GarageFinish = train_df.GarageFinish.astype(\"category\",\n",
    "  ordered=True,\n",
    "  categories=ordered_GarageFinish\n",
    ").cat.codes\n",
    "#train_df.GarageFinish"
   ]
  },
  {
   "cell_type": "markdown",
   "metadata": {},
   "source": [
    "#### GarageQual"
   ]
  },
  {
   "cell_type": "code",
   "execution_count": 420,
   "metadata": {
    "collapsed": true
   },
   "outputs": [],
   "source": [
    "# get the order for GarageQual\n",
    "ordered_GarageQual = ['Ex', 'Gd', 'TA', 'Fa', 'Po', 'NA']\n",
    "ordered_GarageQual.reverse()\n",
    "#ordered_GarageQual"
   ]
  },
  {
   "cell_type": "code",
   "execution_count": 421,
   "metadata": {
    "collapsed": true
   },
   "outputs": [],
   "source": [
    "# make the column GarageFinish categorical data and order by code\n",
    "train_df.GarageQual = train_df.GarageQual.astype(\"category\",\n",
    "  ordered=True,\n",
    "  categories=ordered_GarageQual\n",
    ").cat.codes\n",
    "#train_df.GarageQual"
   ]
  },
  {
   "cell_type": "markdown",
   "metadata": {},
   "source": [
    "#### GarageCond"
   ]
  },
  {
   "cell_type": "code",
   "execution_count": 422,
   "metadata": {
    "collapsed": true
   },
   "outputs": [],
   "source": [
    "# get the order for GarageCond\n",
    "ordered_GarageCond = ['Ex', 'Gd', 'TA', 'Fa', 'Po', 'NA']\n",
    "ordered_GarageCond.reverse()\n",
    "#ordered_GarageCond"
   ]
  },
  {
   "cell_type": "code",
   "execution_count": 423,
   "metadata": {
    "collapsed": true
   },
   "outputs": [],
   "source": [
    "# make the column GarageCond categorical data and order by code\n",
    "train_df.GarageCond = train_df.GarageCond.astype(\"category\",\n",
    "  ordered=True,\n",
    "  categories=ordered_GarageCond\n",
    ").cat.codes\n",
    "#train_df.GarageCond"
   ]
  },
  {
   "cell_type": "markdown",
   "metadata": {},
   "source": [
    "#### PavedDrive"
   ]
  },
  {
   "cell_type": "code",
   "execution_count": 424,
   "metadata": {
    "collapsed": true
   },
   "outputs": [],
   "source": [
    "# get the order for PavedDrive\n",
    "ordered_PavedDrive = ['Y', 'P', 'N']\n",
    "ordered_PavedDrive.reverse()\n",
    "#ordered_PavedDrive"
   ]
  },
  {
   "cell_type": "code",
   "execution_count": 425,
   "metadata": {
    "collapsed": true
   },
   "outputs": [],
   "source": [
    "# make the column PavedDrive categorical data and order by code\n",
    "train_df.PavedDrive = train_df.PavedDrive.astype(\"category\",\n",
    "  ordered=True,\n",
    "  categories=ordered_PavedDrive\n",
    ").cat.codes\n",
    "#train_df.PavedDrive"
   ]
  },
  {
   "cell_type": "markdown",
   "metadata": {},
   "source": [
    "#### PoolQC"
   ]
  },
  {
   "cell_type": "code",
   "execution_count": 426,
   "metadata": {
    "collapsed": true
   },
   "outputs": [],
   "source": [
    "# get the order for PoolQC\n",
    "ordered_PoolQC = ['Ex', 'Gd', 'TA', 'Fa', 'NA']\n",
    "ordered_PoolQC.reverse()\n",
    "#ordered_PoolQC"
   ]
  },
  {
   "cell_type": "code",
   "execution_count": 427,
   "metadata": {
    "collapsed": true
   },
   "outputs": [
    {
     "data": {
      "text/plain": [
       "0       0\n",
       "1       0\n",
       "2       0\n",
       "3       0\n",
       "4       0\n",
       "5       0\n",
       "6       0\n",
       "7       0\n",
       "8       0\n",
       "9       0\n",
       "10      0\n",
       "11      0\n",
       "12      0\n",
       "13      0\n",
       "14      0\n",
       "15      0\n",
       "16      0\n",
       "17      0\n",
       "18      0\n",
       "19      0\n",
       "20      0\n",
       "21      0\n",
       "22      0\n",
       "23      0\n",
       "24      0\n",
       "25      0\n",
       "26      0\n",
       "27      0\n",
       "28      0\n",
       "29      0\n",
       "       ..\n",
       "1430    0\n",
       "1431    0\n",
       "1432    0\n",
       "1433    0\n",
       "1434    0\n",
       "1435    0\n",
       "1436    0\n",
       "1437    0\n",
       "1438    0\n",
       "1439    0\n",
       "1440    0\n",
       "1441    0\n",
       "1442    0\n",
       "1443    0\n",
       "1444    0\n",
       "1445    0\n",
       "1446    0\n",
       "1447    0\n",
       "1448    0\n",
       "1449    0\n",
       "1450    0\n",
       "1451    0\n",
       "1452    0\n",
       "1453    0\n",
       "1454    0\n",
       "1455    0\n",
       "1456    0\n",
       "1457    0\n",
       "1458    0\n",
       "1459    0\n",
       "Name: PoolQC, Length: 1460, dtype: int8"
      ]
     },
     "execution_count": 427,
     "metadata": {},
     "output_type": "execute_result"
    }
   ],
   "source": [
    "# make the column PoolQC categorical data and order by code\n",
    "train_df.PoolQC = train_df.PoolQC.astype(\"category\",\n",
    "  ordered=True,\n",
    "  categories=ordered_PoolQC\n",
    ").cat.codes\n",
    "#train_df.PoolQC"
   ]
  },
  {
   "cell_type": "markdown",
   "metadata": {},
   "source": [
    "## Throw it in a model"
   ]
  },
  {
   "cell_type": "code",
   "execution_count": 465,
   "metadata": {
    "collapsed": true
   },
   "outputs": [],
   "source": [
    "#train_df.columns\n",
    "#train_df[['Id', 'Neighborhood', 'Condition1', 'Condition2', 'HouseStyle', 'OverallQual', 'OverallCond', 'YearRemodAdd', 'ExterQual', 'ExterCond', ]]"
   ]
  },
  {
   "cell_type": "code",
   "execution_count": 478,
   "metadata": {},
   "outputs": [],
   "source": [
    "#from sklearn import linear_model\n",
    "#reg = linear_model.LinearRegression()\n",
    "#reg.fit(train_df[''], )"
   ]
  },
  {
   "cell_type": "code",
   "execution_count": null,
   "metadata": {},
   "outputs": [],
   "source": []
  },
  {
   "cell_type": "code",
   "execution_count": null,
   "metadata": {
    "collapsed": true
   },
   "outputs": [],
   "source": []
  },
  {
   "cell_type": "code",
   "execution_count": null,
   "metadata": {
    "collapsed": true,
    "scrolled": true
   },
   "outputs": [],
   "source": [
    "# IGNORE THIS\n",
    "#_ = plt.scatter(train_df.OverallQual, train_df.OverallCond, alpha=0.025)\n",
    "#_ = plt.xlabel('Overall Quality')\n",
    "#_ = plt.ylabel('Overall Condition')\n",
    "#plt.show()"
   ]
  },
  {
   "cell_type": "code",
   "execution_count": null,
   "metadata": {
    "collapsed": true,
    "scrolled": true
   },
   "outputs": [],
   "source": [
    "#_ = plt.hist(train_df[(train_df.OverallCond == 5) & (train_df.OverallQual == 8)].SalePrice, bins=10)\n",
    "#plt.show()"
   ]
  },
  {
   "cell_type": "code",
   "execution_count": 436,
   "metadata": {
    "collapsed": true,
    "scrolled": true
   },
   "outputs": [],
   "source": [
    "#medians_by_hood = train_df.groupby(['Neighborhood', 'MoSold'])['SalePrice'].median()"
   ]
  },
  {
   "cell_type": "code",
   "execution_count": null,
   "metadata": {
    "collapsed": true,
    "scrolled": true
   },
   "outputs": [],
   "source": []
  },
  {
   "cell_type": "code",
   "execution_count": null,
   "metadata": {
    "collapsed": true,
    "scrolled": true
   },
   "outputs": [],
   "source": []
  },
  {
   "cell_type": "code",
   "execution_count": null,
   "metadata": {
    "collapsed": true,
    "scrolled": true
   },
   "outputs": [],
   "source": []
  }
 ],
 "metadata": {
  "kernelspec": {
   "display_name": "Python 3",
   "language": "python",
   "name": "python3"
  },
  "language_info": {
   "codemirror_mode": {
    "name": "ipython",
    "version": 3
   },
   "file_extension": ".py",
   "mimetype": "text/x-python",
   "name": "python",
   "nbconvert_exporter": "python",
   "pygments_lexer": "ipython3",
   "version": "3.6.3"
  }
 },
 "nbformat": 4,
 "nbformat_minor": 2
}
